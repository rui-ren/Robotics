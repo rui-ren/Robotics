{
 "cells": [
  {
   "cell_type": "markdown",
   "metadata": {},
   "source": [
    "# 1. Localization basic understanding"
   ]
  },
  {
   "cell_type": "markdown",
   "metadata": {},
   "source": [
    "### 1.1 Helpful function "
   ]
  },
  {
   "cell_type": "code",
   "execution_count": 30,
   "metadata": {},
   "outputs": [],
   "source": [
    "### the function for measurement upate\n",
    "def sense(p, Z):\n",
    "    \"\"\"\n",
    "    Argument: p ---- the prior probability\n",
    "              Z ---- the measurement data\n",
    "    \n",
    "    Output:   p ---- the posterior\n",
    "    \"\"\"\n",
    "    q = []\n",
    "    for i in range(len(p)):\n",
    "        hit = (world[i]==Z)     # compare the landmark and the measurement\n",
    "        q.append(hit * pHit * p[i] + (1 - hit) * pMiss * p[i])   # probability product\n",
    "    \n",
    "    # normalization for the posterior probability\n",
    "    s = sum(q)                                       \n",
    "    q = [q[i]/s for i in range(len(p))]\n",
    "    return q"
   ]
  },
  {
   "cell_type": "code",
   "execution_count": 32,
   "metadata": {},
   "outputs": [],
   "source": [
    "p=[0.2, 0.2, 0.2, 0.2, 0.2]\n",
    "world=['green', 'red', 'red', 'green', 'green']\n",
    "Z = 'red'                      # for one measurement\n",
    "measurements = ['red', 'red']  # for more than one measurement\n",
    "pHit = 0.6\n",
    "pMiss = 0.2"
   ]
  },
  {
   "cell_type": "code",
   "execution_count": 33,
   "metadata": {},
   "outputs": [
    {
     "data": {
      "text/plain": [
       "[0.1111111111111111,\n",
       " 0.3333333333333332,\n",
       " 0.3333333333333332,\n",
       " 0.1111111111111111,\n",
       " 0.1111111111111111]"
      ]
     },
     "execution_count": 33,
     "metadata": {},
     "output_type": "execute_result"
    }
   ],
   "source": [
    "sense(p, Z)"
   ]
  },
  {
   "cell_type": "code",
   "execution_count": 34,
   "metadata": {},
   "outputs": [
    {
     "name": "stdout",
     "output_type": "stream",
     "text": [
      "[0.1111111111111111, 0.3333333333333332, 0.3333333333333332, 0.1111111111111111, 0.1111111111111111]\n",
      "[0.047619047619047644, 0.4285714285714286, 0.4285714285714286, 0.047619047619047644, 0.047619047619047644]\n"
     ]
    }
   ],
   "source": [
    "# if we have more than 1 measurement, so the update will be\n",
    "measurements = ['red', 'red']\n",
    "\n",
    "for Z in measurements:\n",
    "    p = sense(p,Z)\n",
    "    print (p)"
   ]
  },
  {
   "cell_type": "code",
   "execution_count": 80,
   "metadata": {},
   "outputs": [],
   "source": [
    "### the function for inaccurate movement update\n",
    "### convolution the movement\n",
    "def move(p, U):\n",
    "    \"\"\"\n",
    "    Argument： p ---- the prior probability\n",
    "               U ---- the movement step\n",
    "               \n",
    "    Return: q ---- the posterior probability\n",
    "    \"\"\"\n",
    "    q = []\n",
    "    for i in range(len(p)):\n",
    "        s = p[(i-U)%len(p)] * pExact\n",
    "        s = s + p[(i-U-1)%len(p)] * pOvershoot\n",
    "        s = s + p[(i-U+1)%len(p)] * pUndershoot\n",
    "        q.append(s)\n",
    "        \n",
    "    return q"
   ]
  },
  {
   "cell_type": "code",
   "execution_count": 87,
   "metadata": {},
   "outputs": [
    {
     "name": "stdout",
     "output_type": "stream",
     "text": [
      "[0.20000000000000365, 0.20000000000000373, 0.20000000000000365, 0.2000000000000035, 0.2000000000000035]\n"
     ]
    }
   ],
   "source": [
    "p=[0, 1, 0, 0, 0]\n",
    "world=['green', 'red', 'red', 'green', 'green']\n",
    "measurements = ['red', 'green']\n",
    "pHit = 0.6\n",
    "pMiss = 0.2\n",
    "pExact = 0.8\n",
    "pOvershoot = 0.1\n",
    "pUndershoot = 0.1\n",
    "for i in range(100000):\n",
    "    p = move(p,1)\n",
    "print(p)"
   ]
  },
  {
   "cell_type": "code",
   "execution_count": null,
   "metadata": {},
   "outputs": [],
   "source": []
  },
  {
   "cell_type": "code",
   "execution_count": null,
   "metadata": {},
   "outputs": [],
   "source": []
  }
 ],
 "metadata": {
  "kernelspec": {
   "display_name": "Python 3",
   "language": "python",
   "name": "python3"
  },
  "language_info": {
   "codemirror_mode": {
    "name": "ipython",
    "version": 3
   },
   "file_extension": ".py",
   "mimetype": "text/x-python",
   "name": "python",
   "nbconvert_exporter": "python",
   "pygments_lexer": "ipython3",
   "version": "3.7.0"
  }
 },
 "nbformat": 4,
 "nbformat_minor": 2
}
