{
 "cells": [
  {
   "cell_type": "code",
   "execution_count": 16,
   "metadata": {},
   "outputs": [],
   "source": [
    "def sense(p, colors, measurement):\n",
    "    \n",
    "    # define a auxiliary matrix for the assignment\n",
    "    aux = [[0.0 for col in range(len(p[0]))] for row in range(len(p))]\n",
    "    Sum = 0\n",
    "    \n",
    "    # measurement update for the calculation\n",
    "    for i in range(len(colors)):                # iterate the rows\n",
    "        for j in range(len(colors[i])):         # iterate the columns\n",
    "            hit = (measurement==colors[i][j])  #  define a threshold for the measurement \n",
    "            aux[i][j] = (hit * p[i][j] * sensor_right + (1 - hit) * p[i][j] * (1 - sensor_right))\n",
    "            Sum += aux[i][j]\n",
    "            \n",
    "    ######### normalization for the probability #######\n",
    "    \n",
    "    for i in range(len(aux)):\n",
    "        for j in range(len(aux[0])):\n",
    "            aux[i][j] /= Sum\n",
    "    \n",
    "    return aux"
   ]
  },
  {
   "cell_type": "code",
   "execution_count": 17,
   "metadata": {},
   "outputs": [],
   "source": [
    "def move(p, motion):\n",
    "    aux = [[0.0 for col in range(len(p[0]))] for row in range(len(p))]\n",
    "    \n",
    "    for i in range(len(p)):\n",
    "        for j in range(len(p[i])):\n",
    "            aux[i][j] = p_move * p[(i - motion[0]) % len(p)][(j - motion[1])] + p_stay * p[i][j]\n",
    "    return aux"
   ]
  },
  {
   "cell_type": "code",
   "execution_count": 18,
   "metadata": {},
   "outputs": [],
   "source": [
    "def show(p):\n",
    "    rows = ['[' + ','.join(map(lambda x: '{0:.5f}'.format(x),r)) + ']' for r in p]\n",
    "    print( '[' + ',\\n '.join(rows) + ']')"
   ]
  },
  {
   "cell_type": "code",
   "execution_count": 19,
   "metadata": {},
   "outputs": [
    {
     "name": "stdout",
     "output_type": "stream",
     "text": [
      "[[0.01106,0.02464,0.06800,0.04472,0.02465],\n",
      " [0.00715,0.01017,0.08697,0.07988,0.00935],\n",
      " [0.00740,0.00894,0.11273,0.35351,0.04066],\n",
      " [0.00911,0.00715,0.01435,0.04313,0.03643]]\n"
     ]
    }
   ],
   "source": [
    "\n",
    "    \n",
    "colors = [['R','G','G','R','R'],\n",
    "          ['R','R','G','R','R'],\n",
    "          ['R','R','G','G','R'],\n",
    "          ['R','R','R','R','R']]\n",
    "measurements = ['G','G','G','G','G']\n",
    "motions = [[0,0],[0,1],[1,0],[1,0],[0,1]]\n",
    "\n",
    "sensor_right = 0.7\n",
    "p_move = 0.8\n",
    "p_stay = 1 - p_move\n",
    "\n",
    "\n",
    "# EOR detection\n",
    "if len(measurements) != len(motions):\n",
    "    raise ValueError == \"error in size of measurements / motion\"\n",
    "\n",
    "# initialization\n",
    "pinit = 1. / float(len(colors))/ len(colors[0])\n",
    "\n",
    "p = [[pinit for col in range(len(colors[0]))] for row in range(len(colors))]\n",
    "\n",
    "for k in range(len(measurements)):\n",
    "    p = move(p, motions[k])\n",
    "    p = sense(p, colors, measurements[k])\n",
    "\n",
    "show (p)"
   ]
  },
  {
   "cell_type": "code",
   "execution_count": null,
   "metadata": {},
   "outputs": [],
   "source": []
  },
  {
   "cell_type": "code",
   "execution_count": null,
   "metadata": {},
   "outputs": [],
   "source": []
  }
 ],
 "metadata": {
  "kernelspec": {
   "display_name": "Python 3",
   "language": "python",
   "name": "python3"
  },
  "language_info": {
   "codemirror_mode": {
    "name": "ipython",
    "version": 3
   },
   "file_extension": ".py",
   "mimetype": "text/x-python",
   "name": "python",
   "nbconvert_exporter": "python",
   "pygments_lexer": "ipython3",
   "version": "3.7.0"
  }
 },
 "nbformat": 4,
 "nbformat_minor": 2
}
