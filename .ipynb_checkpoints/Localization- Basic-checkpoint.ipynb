{
 "cells": [
  {
   "cell_type": "markdown",
   "metadata": {},
   "source": [
    "# 1. Localization basic understanding"
   ]
  },
  {
   "cell_type": "markdown",
   "metadata": {},
   "source": [
    "### 1.1 Measurement"
   ]
  },
  {
   "cell_type": "code",
   "execution_count": 2,
   "metadata": {},
   "outputs": [],
   "source": [
    "### the function for measurement upate\n",
    "def sense(p, Z):\n",
    "    \"\"\"\n",
    "    Argument: p ---- the prior probability\n",
    "              Z ---- the measurement data\n",
    "    \n",
    "    Output:   p ---- the posterior\n",
    "    \"\"\"\n",
    "    q = []\n",
    "    for i in range(len(p)):\n",
    "        hit = (world[i]==Z)     # compare the landmark and the measurement\n",
    "        q.append(hit * pHit * p[i] + (1 - hit) * pMiss * p[i])   # probability product\n",
    "    \n",
    "    print(q)\n",
    "    # normalization for the posterior probability\n",
    "    s = sum(q)                                       \n",
    "    q = [q[i]/s for i in range(len(p))]\n",
    "    return q"
   ]
  },
  {
   "cell_type": "code",
   "execution_count": 3,
   "metadata": {},
   "outputs": [],
   "source": [
    "p=[0.2, 0.2, 0.2, 0.2, 0.2]\n",
    "world=['green', 'red', 'red', 'green', 'green']\n",
    "Z = 'red'                      # for one measurement\n",
    "measurements = ['red', 'red']  # for more than one measurement\n",
    "pHit = 0.6\n",
    "pMiss = 0.2"
   ]
  },
  {
   "cell_type": "code",
   "execution_count": 4,
   "metadata": {},
   "outputs": [
    {
     "name": "stdout",
     "output_type": "stream",
     "text": [
      "[0.04000000000000001, 0.12, 0.12, 0.04000000000000001, 0.04000000000000001]\n"
     ]
    },
    {
     "data": {
      "text/plain": [
       "[0.1111111111111111,\n",
       " 0.3333333333333332,\n",
       " 0.3333333333333332,\n",
       " 0.1111111111111111,\n",
       " 0.1111111111111111]"
      ]
     },
     "execution_count": 4,
     "metadata": {},
     "output_type": "execute_result"
    }
   ],
   "source": [
    "sense(p, Z)"
   ]
  },
  {
   "cell_type": "code",
   "execution_count": 5,
   "metadata": {},
   "outputs": [
    {
     "name": "stdout",
     "output_type": "stream",
     "text": [
      "[0.04000000000000001, 0.12, 0.12, 0.04000000000000001, 0.04000000000000001]\n",
      "[0.1111111111111111, 0.3333333333333332, 0.3333333333333332, 0.1111111111111111, 0.1111111111111111]\n",
      "[0.022222222222222223, 0.19999999999999993, 0.19999999999999993, 0.022222222222222223, 0.022222222222222223]\n",
      "[0.047619047619047644, 0.4285714285714286, 0.4285714285714286, 0.047619047619047644, 0.047619047619047644]\n"
     ]
    }
   ],
   "source": [
    "# if we have more than 1 measurement, so the update will be\n",
    "measurements = ['red', 'red']\n",
    "\n",
    "for Z in measurements:\n",
    "    p = sense(p,Z)\n",
    "    print (p)"
   ]
  },
  {
   "cell_type": "markdown",
   "metadata": {},
   "source": [
    "### 1.2 Motion"
   ]
  },
  {
   "cell_type": "code",
   "execution_count": 6,
   "metadata": {},
   "outputs": [],
   "source": [
    "### the function for inaccurate movement update\n",
    "### convolution the movement\n",
    "def move(p, U):\n",
    "    \"\"\"\n",
    "    Argument： p ---- the prior probability\n",
    "               U ---- the movement step\n",
    "               \n",
    "    Return: q ---- the posterior probability\n",
    "    \"\"\"\n",
    "    q = []\n",
    "    for i in range(len(p)):\n",
    "        s = p[(i-U)%len(p)] * pExact\n",
    "        s = s + p[(i-U-1)%len(p)] * pOvershoot\n",
    "        s = s + p[(i-U+1)%len(p)] * pUndershoot\n",
    "        q.append(s)\n",
    "        \n",
    "    return q"
   ]
  },
  {
   "cell_type": "markdown",
   "metadata": {},
   "source": [
    "### 1.3 Measurement and motion cycles"
   ]
  },
  {
   "cell_type": "code",
   "execution_count": 7,
   "metadata": {},
   "outputs": [
    {
     "name": "stdout",
     "output_type": "stream",
     "text": [
      "[0.04000000000000001, 0.12, 0.12, 0.04000000000000001, 0.04000000000000001]\n",
      "[0.022222222222222227, 0.08, 0.1866666666666666, 0.06222222222222221, 0.02666666666666666]\n",
      "[0.07882352941176471, 0.07529411764705884, 0.22470588235294123, 0.4329411764705882, 0.18823529411764706]\n"
     ]
    }
   ],
   "source": [
    "p=[0.2, 0.2, 0.2, 0.2, 0.2]\n",
    "world=['green', 'red', 'red', 'green', 'green']\n",
    "measurements = ['red', 'red']\n",
    "motions = [1,1]\n",
    "pHit = 0.6\n",
    "pMiss = 0.2\n",
    "pExact = 0.8\n",
    "pOvershoot = 0.1\n",
    "pUndershoot = 0.1\n",
    "\n",
    "for i in range(len(motions)):     # sense and move cycles\n",
    "    p = sense(p,measurements[i])\n",
    "    p = move(p, motions[i])\n",
    "print (p)"
   ]
  },
  {
   "cell_type": "markdown",
   "metadata": {},
   "source": [
    "### 1.4 Two dimension localization"
   ]
  },
  {
   "cell_type": "code",
   "execution_count": 8,
   "metadata": {},
   "outputs": [],
   "source": [
    "# generate the 2D map\n",
    "colors = [['green', 'green', 'green'],\n",
    "          ['green', 'red', 'red'],\n",
    "          ['green', 'green', 'green']]\n",
    "\n",
    "# measurement\n",
    "measurements = ['red']\n",
    "\n",
    "motions = [[0,0]]\n",
    "\n",
    "sensor_right = 0.8\n",
    "p_move = 1.0"
   ]
  },
  {
   "cell_type": "code",
   "execution_count": 9,
   "metadata": {},
   "outputs": [
    {
     "data": {
      "text/plain": [
       "[['green', 'green', 'green'],\n",
       " ['green', 'red', 'red'],\n",
       " ['green', 'green', 'green']]"
      ]
     },
     "execution_count": 9,
     "metadata": {},
     "output_type": "execute_result"
    }
   ],
   "source": [
    "colors"
   ]
  },
  {
   "cell_type": "code",
   "execution_count": 72,
   "metadata": {},
   "outputs": [],
   "source": [
    "# The function localize takes the following arguments:\n",
    "#\n",
    "# colors:\n",
    "#        2D list, each entry either 'R' (for red cell) or 'G' (for green cell)\n",
    "#\n",
    "# measurements:\n",
    "#        list of measurements taken by the robot, each entry either 'R' or 'G'\n",
    "#\n",
    "# motions:\n",
    "#        list of actions taken by the robot, each entry of the form [dy,dx],\n",
    "#        where dx refers to the change in the x-direction (positive meaning\n",
    "#        movement to the right) and dy refers to the change in the y-direction\n",
    "#        (positive meaning movement downward)\n",
    "#        NOTE: the *first* coordinate is change in y; the *second* coordinate is\n",
    "#              change in x\n",
    "#\n",
    "# sensor_right:\n",
    "#        float between 0 and 1, giving the probability that any given\n",
    "#        measurement is correct; the probability that the measurement is\n",
    "#        incorrect is 1-sensor_right\n",
    "#\n",
    "# p_move:\n",
    "#        float between 0 and 1, giving the probability that any given movement\n",
    "#        command takes place; the probability that the movement command fails\n",
    "#        (and the robot remains still) is 1-p_move; the robot will NOT overshoot\n",
    "#        its destination in this exercise\n",
    "#\n",
    "# The function should RETURN (not just show or print) a 2D list (of the same\n",
    "# dimensions as colors) that gives the probabilities that the robot occupies\n",
    "# each cell in the world.\n",
    "#\n",
    "# Compute the probabilities by assuming the robot initially has a uniform\n",
    "# probability of being in any cell.\n",
    "#\n",
    "# Also assume that at each step, the robot:\n",
    "# 1) first makes a movement,\n",
    "# 2) then takes a measurement.\n",
    "#\n",
    "# Motion:\n",
    "#  [0,0] - stay\n",
    "#  [0,1] - right\n",
    "#  [0,-1] - left\n",
    "#  [1,0] - down\n",
    "#  [-1,0] - up\n",
    "\n",
    "def localize(colors, measurements, motions, sensor_right, p_move):\n",
    "    \"\"\"\n",
    "    Arguments: colors --- the map of the landmark\n",
    "               meaurements --- the measurement update\n",
    "               motions --- the motion update\n",
    "               sensor_right --- the probability of sensor\n",
    "               p_move --- the probability of th movement\n",
    "    \n",
    "    Return: the probability of the location output\n",
    "    \"\"\"\n",
    "    stack = [[0.0 for col in range(len(colors[0]))] for row in range(len(colors))]\n",
    "    # we only need to update the motion for once\n",
    "    # y direction motion update\n",
    "    \n",
    "    if motions[0] != 0:        # check if the dy direction is True\n",
    "        dy = motions[0]        # dy direction movement\n",
    "        for i in range(len(colors)):   # iterate the row\n",
    "            # check the motion in y direction \n",
    "            for j in range(len(colors[0])):\n",
    "                # robot movement and stand still\n",
    "                cov = p[(i-dy)% len(colors)][j] * p_move    # robot movement\n",
    "                cov = cov + p[i][j] * (1 - p_move)          # robot stand still\n",
    "                stack[i][j] = cov  # convolution\n",
    "    \n",
    "    # check the motion in dx direction\n",
    "    if motions[1] != 0:      # dx direction movement\n",
    "        dx = motions[1]\n",
    "        for i in range(len(colors)):   # iterate the row\n",
    "            for j in range(len(colors[0])):   # iterate the column of the matrix\n",
    "                # robot movement and stand still\n",
    "                cov = p[i][(j-dx) % len(colors[0])] * p_move   # robot movement\n",
    "                cov = cov + p[i][j] * (1 - p_move)             # robot stand still\n",
    "                stack[i][j] = cov\n",
    "    \n",
    "    # the measurement update for the calculations\n",
    "    aux = [[0.0 for col in range(len(p[0]))] for row in range(len(p))]\n",
    "    Sum = 0\n",
    "    for i in range(len(colors)):                # iterate the rows\n",
    "        for j in range(len(colors[i])):         # iterate the columns\n",
    "            hit = (measurements==colors[i][j])  #  define a threshold for the measurement \n",
    "            aux[i][j] = (hit * p[i][j] * sensor_right + (1 - hit) * p[i][j] * (1 - sensor_right))\n",
    "            Sum += aux[i][j]\n",
    "\n",
    "    ######### normalization for the probability #######\n",
    "    \n",
    "    for i in range(len(aux)):\n",
    "        for j in range(len(aux[0])):\n",
    "            aux[i][j] /= Sum\n",
    "   \n",
    "    return aux\n",
    "\n",
    "\n",
    "def show(p):\n",
    "    rows = ['[' + ','.join(map(lambda x: '{0:.5f}'.format(x),r)) + ']' for r in p]\n",
    "    print ('[' + ',\\n '.join(rows) + ']')"
   ]
  },
  {
   "cell_type": "code",
   "execution_count": 73,
   "metadata": {},
   "outputs": [
    {
     "name": "stdout",
     "output_type": "stream",
     "text": [
      "[[0.00277,0.19169,0.19169,0.00277,0.00277],\n",
      " [0.00277,0.00277,0.19169,0.00277,0.00277],\n",
      " [0.00277,0.00277,0.19169,0.19169,0.00277],\n",
      " [0.00277,0.00277,0.00277,0.00277,0.00277]]\n"
     ]
    }
   ],
   "source": [
    "#############################################################\n",
    "# For the following test case, your output should be \n",
    "# [[0.01105, 0.02464, 0.06799, 0.04472, 0.02465],\n",
    "#  [0.00715, 0.01017, 0.08696, 0.07988, 0.00935],\n",
    "#  [0.00739, 0.00894, 0.11272, 0.35350, 0.04065],\n",
    "#  [0.00910, 0.00715, 0.01434, 0.04313, 0.03642]]\n",
    "# (within a tolerance of +/- 0.001 for each entry)\n",
    "\n",
    "colors = [['R','G','G','R','R'],\n",
    "          ['R','R','G','R','R'],\n",
    "          ['R','R','G','G','R'],\n",
    "          ['R','R','R','R','R']]\n",
    "measurements = ['G','G','G','G','G']\n",
    "motions = [[0,0],[0,1],[1,0],[1,0],[0,1]]\n",
    "\n",
    "# define a initial probability for the calculation\n",
    "pr = 1./20\n",
    "p = [[pr]*5]*4\n",
    "\n",
    "for i in range(len(motions)):\n",
    "    measurement = measurements[i]\n",
    "    motion = motions[i]\n",
    "    sensor_right = 0.7\n",
    "    p_move = 0.8\n",
    "    p = localize(colors, measurement, motion, sensor_right, p_move)\n",
    "show (p)"
   ]
  },
  {
   "cell_type": "code",
   "execution_count": 74,
   "metadata": {},
   "outputs": [
    {
     "name": "stdout",
     "output_type": "stream",
     "text": [
      "1.0000000000000002\n"
     ]
    }
   ],
   "source": [
    "c = 0\n",
    "for i in range(len(p)):\n",
    "    for j in range(len(p[0])):\n",
    "        c += p[i][j]\n",
    "\n",
    "print(c)"
   ]
  },
  {
   "cell_type": "markdown",
   "metadata": {},
   "source": [
    "## 1.4 Motion for 2D"
   ]
  },
  {
   "cell_type": "code",
   "execution_count": 93,
   "metadata": {},
   "outputs": [],
   "source": [
    "# Define function for 2D movement\n",
    "\n",
    "def motion2D(p, motions):\n",
    "\n",
    "    stack = [[0.0 for col in range(len(colors[0]))] for row in range(len(colors))]\n",
    "    # we only need to update the motion for once\n",
    "    # y direction motion update\n",
    "    \n",
    "    if motions[0] != 0:        # check if the dy direction is True\n",
    "        dy = motions[0]        # dy direction movement\n",
    "        for i in range(len(colors)):   # iterate the row\n",
    "            # check the motion in y direction \n",
    "            for j in range(len(colors[0])):\n",
    "                # robot movement and stand still\n",
    "                print(p[(i-dy)% len(colors)][j])\n",
    "                cov = p[(i-dy)% len(colors)][j] * p_move    # robot movement\n",
    "                cov = cov + p[i][j] * (1 - p_move)          # robot stand still\n",
    "                stack[i][j] = cov  # convolution\n",
    "    \n",
    "    # check the motion in dx direction\n",
    "    if motions[1] != 0:      # dx direction movement\n",
    "        dx = motions[1]\n",
    "        for i in range(len(colors)):   # iterate the row\n",
    "            for j in range(len(colors[0])):   # iterate the column of the matrix\n",
    "                # robot movement and stand still\n",
    "                print(p[i][(j-dx) % len(colors[i])])\n",
    "                \n",
    "                cov = p[i][(j-dx) % len(colors[i])] * p_move   # robot movement\n",
    "                cov = cov + p[i][j] * (1 - p_move)             # robot stand still\n",
    "                stack[i][j] = cov\n",
    "    \n",
    "    # the measurement update for the calculations\n",
    "    aux = [[0.0 for col in range(len(p[0]))] for row in range(len(p))]\n",
    "    Sum = 0\n",
    "    for i in range(len(colors)):                # iterate the rows\n",
    "        for j in range(len(colors[i])):         # iterate the columns\n",
    "            hit = (measurements==colors[i][j])  #  define a threshold for the measurement \n",
    "            aux[i][j] = (hit * p[i][j] * sensor_right + (1 - hit) * p[i][j] * (1 - sensor_right))\n",
    "            Sum += aux[i][j]\n",
    "\n",
    "    # initialization for the p\n",
    "    if (motions[1] == 0 & motion[0] == 0):\n",
    "        q = p\n",
    "    return q"
   ]
  },
  {
   "cell_type": "markdown",
   "metadata": {},
   "source": [
    "## 1.5 Define function for 2D measurement update"
   ]
  },
  {
   "cell_type": "code",
   "execution_count": 94,
   "metadata": {},
   "outputs": [],
   "source": [
    "## function for 2D measurement update\n",
    "\n",
    "def update2D(p, measurements):\n",
    "    \n",
    "    q_update = []\n",
    "    # the measurement update for the calculations\n",
    "    for i in range(len(colors)):                # iterate the rows\n",
    "        stack = []\n",
    "        for j in range(len(colors[0])):         # iterate the columns\n",
    "            hit = (measurements==colors[i][j])  #  define a threshold for the measurement \n",
    "            # q[i][j] = (hit * q[i][j] * sensor_right + (1 - hit) * q[i][j] * (1 - sensor_right))\n",
    "            stack.append(hit * q[i][j] * sensor_right + (1 - hit) * q[i][j] * (1 - sensor_right))\n",
    "        q_update.append(stack)\n",
    "            \n",
    "    Sum = 0\n",
    "    # normalization for the probability\n",
    "    for i in range(len(q)):\n",
    "        for j in range(len(q[0])):\n",
    "            Sum +=q_update[i][j]\n",
    "            \n",
    "    for i in range(len(q)):\n",
    "        for j in range(len(q[0])):\n",
    "            q_update[i][j] = q_update[i][j] / Sum\n",
    "    \n",
    "#     stack = []\n",
    "#     for i in range(len(q)):\n",
    "#         for j in range(len(q[0])):\n",
    "#             stack.append( q[i][j]/ Sum)\n",
    "    \n",
    "    ##check why we cannot ues the assignment here,???WTF\n",
    "#     q = np.array(stack).reshape((4,5))\n",
    "    \n",
    "    return q_update"
   ]
  },
  {
   "cell_type": "code",
   "execution_count": 95,
   "metadata": {},
   "outputs": [
    {
     "ename": "TypeError",
     "evalue": "unsupported operand type(s) for -: 'int' and 'list'",
     "output_type": "error",
     "traceback": [
      "\u001b[1;31m---------------------------------------------------------------------------\u001b[0m",
      "\u001b[1;31mTypeError\u001b[0m                                 Traceback (most recent call last)",
      "\u001b[1;32m<ipython-input-95-91fa9df32ff0>\u001b[0m in \u001b[0;36m<module>\u001b[1;34m()\u001b[0m\n\u001b[0;32m     10\u001b[0m \u001b[0msensor_right\u001b[0m \u001b[1;33m=\u001b[0m \u001b[1;36m0.7\u001b[0m\u001b[1;33m\u001b[0m\u001b[0m\n\u001b[0;32m     11\u001b[0m \u001b[0mp_move\u001b[0m \u001b[1;33m=\u001b[0m \u001b[1;36m0.8\u001b[0m\u001b[1;33m\u001b[0m\u001b[0m\n\u001b[1;32m---> 12\u001b[1;33m \u001b[0mc\u001b[0m \u001b[1;33m=\u001b[0m \u001b[0mlocalize\u001b[0m\u001b[1;33m(\u001b[0m\u001b[0mcolors\u001b[0m\u001b[1;33m,\u001b[0m\u001b[0mmeasurements\u001b[0m\u001b[1;33m,\u001b[0m\u001b[0mmotions\u001b[0m\u001b[1;33m,\u001b[0m\u001b[0msensor_right\u001b[0m\u001b[1;33m,\u001b[0m \u001b[0mp_move\u001b[0m\u001b[1;33m)\u001b[0m\u001b[1;33m\u001b[0m\u001b[0m\n\u001b[0m\u001b[0;32m     13\u001b[0m \u001b[0mshow\u001b[0m\u001b[1;33m(\u001b[0m\u001b[0mc\u001b[0m\u001b[1;33m)\u001b[0m \u001b[1;31m# displays your answer\u001b[0m\u001b[1;33m\u001b[0m\u001b[0m\n\u001b[0;32m     14\u001b[0m \u001b[1;33m\u001b[0m\u001b[0m\n",
      "\u001b[1;32m<ipython-input-72-ef6cc97d1398>\u001b[0m in \u001b[0;36mlocalize\u001b[1;34m(colors, measurements, motions, sensor_right, p_move)\u001b[0m\n\u001b[0;32m     64\u001b[0m             \u001b[1;32mfor\u001b[0m \u001b[0mj\u001b[0m \u001b[1;32min\u001b[0m \u001b[0mrange\u001b[0m\u001b[1;33m(\u001b[0m\u001b[0mlen\u001b[0m\u001b[1;33m(\u001b[0m\u001b[0mcolors\u001b[0m\u001b[1;33m[\u001b[0m\u001b[1;36m0\u001b[0m\u001b[1;33m]\u001b[0m\u001b[1;33m)\u001b[0m\u001b[1;33m)\u001b[0m\u001b[1;33m:\u001b[0m\u001b[1;33m\u001b[0m\u001b[0m\n\u001b[0;32m     65\u001b[0m                 \u001b[1;31m# robot movement and stand still\u001b[0m\u001b[1;33m\u001b[0m\u001b[1;33m\u001b[0m\u001b[0m\n\u001b[1;32m---> 66\u001b[1;33m                 \u001b[0mcov\u001b[0m \u001b[1;33m=\u001b[0m \u001b[0mp\u001b[0m\u001b[1;33m[\u001b[0m\u001b[1;33m(\u001b[0m\u001b[0mi\u001b[0m\u001b[1;33m-\u001b[0m\u001b[0mdy\u001b[0m\u001b[1;33m)\u001b[0m\u001b[1;33m%\u001b[0m \u001b[0mlen\u001b[0m\u001b[1;33m(\u001b[0m\u001b[0mcolors\u001b[0m\u001b[1;33m)\u001b[0m\u001b[1;33m]\u001b[0m\u001b[1;33m[\u001b[0m\u001b[0mj\u001b[0m\u001b[1;33m]\u001b[0m \u001b[1;33m*\u001b[0m \u001b[0mp_move\u001b[0m    \u001b[1;31m# robot movement\u001b[0m\u001b[1;33m\u001b[0m\u001b[0m\n\u001b[0m\u001b[0;32m     67\u001b[0m                 \u001b[0mcov\u001b[0m \u001b[1;33m=\u001b[0m \u001b[0mcov\u001b[0m \u001b[1;33m+\u001b[0m \u001b[0mp\u001b[0m\u001b[1;33m[\u001b[0m\u001b[0mi\u001b[0m\u001b[1;33m]\u001b[0m\u001b[1;33m[\u001b[0m\u001b[0mj\u001b[0m\u001b[1;33m]\u001b[0m \u001b[1;33m*\u001b[0m \u001b[1;33m(\u001b[0m\u001b[1;36m1\u001b[0m \u001b[1;33m-\u001b[0m \u001b[0mp_move\u001b[0m\u001b[1;33m)\u001b[0m          \u001b[1;31m# robot stand still\u001b[0m\u001b[1;33m\u001b[0m\u001b[0m\n\u001b[0;32m     68\u001b[0m                 \u001b[0mstack\u001b[0m\u001b[1;33m[\u001b[0m\u001b[0mi\u001b[0m\u001b[1;33m]\u001b[0m\u001b[1;33m[\u001b[0m\u001b[0mj\u001b[0m\u001b[1;33m]\u001b[0m \u001b[1;33m=\u001b[0m \u001b[0mcov\u001b[0m  \u001b[1;31m# convolution\u001b[0m\u001b[1;33m\u001b[0m\u001b[0m\n",
      "\u001b[1;31mTypeError\u001b[0m: unsupported operand type(s) for -: 'int' and 'list'"
     ]
    }
   ],
   "source": [
    "colors = [['R','G','G','R','R'],\n",
    "          ['R','R','G','R','R'],\n",
    "          ['R','R','G','G','R'],\n",
    "          ['R','R','R','R','R']]\n",
    "measurements = ['G','G','G','G','G']\n",
    "motions = [[0,0],[0,1],[1,0],[1,0],[0,1]]\n",
    "# define a initial probability for the calculation\n",
    "pr = 1./20\n",
    "p = [[pr]*5]*4\n",
    "sensor_right = 0.7\n",
    "p_move = 0.8\n",
    "c = localize(colors,measurements,motions,sensor_right, p_move)\n",
    "show(c) # displays your answer\n",
    "\n",
    "\n",
    "def localize(colors, measurements, motions, sensor_right, p_move):\n",
    "    for i in range(len(motions)):\n",
    "        measurement = measurements[i]\n",
    "        motion = motions[i]\n",
    "        q = motion2D(q, motion)\n",
    "        p = update2D(q, measurement)\n",
    "    return p"
   ]
  },
  {
   "cell_type": "code",
   "execution_count": null,
   "metadata": {},
   "outputs": [],
   "source": []
  },
  {
   "cell_type": "code",
   "execution_count": 25,
   "metadata": {},
   "outputs": [],
   "source": [
    "aux = [[0.0 for row in range(len(colors[0]))] for col in range(len(p))]"
   ]
  },
  {
   "cell_type": "code",
   "execution_count": 26,
   "metadata": {},
   "outputs": [
    {
     "data": {
      "text/plain": [
       "[[0.0, 0.0, 0.0, 0.0, 0.0],\n",
       " [0.0, 0.0, 0.0, 0.0, 0.0],\n",
       " [0.0, 0.0, 0.0, 0.0, 0.0],\n",
       " [0.0, 0.0, 0.0, 0.0, 0.0]]"
      ]
     },
     "execution_count": 26,
     "metadata": {},
     "output_type": "execute_result"
    }
   ],
   "source": [
    "aux"
   ]
  },
  {
   "cell_type": "code",
   "execution_count": 86,
   "metadata": {},
   "outputs": [
    {
     "data": {
      "text/plain": [
       "4"
      ]
     },
     "execution_count": 86,
     "metadata": {},
     "output_type": "execute_result"
    }
   ],
   "source": [
    "len(colors)"
   ]
  },
  {
   "cell_type": "code",
   "execution_count": null,
   "metadata": {},
   "outputs": [],
   "source": []
  }
 ],
 "metadata": {
  "kernelspec": {
   "display_name": "Python 3",
   "language": "python",
   "name": "python3"
  },
  "language_info": {
   "codemirror_mode": {
    "name": "ipython",
    "version": 3
   },
   "file_extension": ".py",
   "mimetype": "text/x-python",
   "name": "python",
   "nbconvert_exporter": "python",
   "pygments_lexer": "ipython3",
   "version": "3.7.0"
  }
 },
 "nbformat": 4,
 "nbformat_minor": 2
}
