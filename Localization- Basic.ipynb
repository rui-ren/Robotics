{
 "cells": [
  {
   "cell_type": "markdown",
   "metadata": {},
   "source": [
    "# 1. Localization basic understanding"
   ]
  },
  {
   "cell_type": "markdown",
   "metadata": {},
   "source": [
    "### 1.1 Helpful function "
   ]
  },
  {
   "cell_type": "code",
   "execution_count": 15,
   "metadata": {},
   "outputs": [],
   "source": [
    "### the function for measurement upate\n",
    "def sense(p, Z):\n",
    "    \"\"\"\n",
    "    Argument: p ---- the prior probability\n",
    "              Z ---- the measurement data\n",
    "    \n",
    "    Output:   p ---- the posterior\n",
    "    \"\"\"\n",
    "    q = []\n",
    "    for i in range(len(p)):\n",
    "        hit = (world[i]==Z)     # compare the landmark and the measurement\n",
    "        q.append(hit * pHit * p[i] + (1 - hit) * pMiss * p[i])   # probability product\n",
    "    \n",
    "    # normalization for the posterior probability\n",
    "    s = sum(q)                                       \n",
    "    q = [q[i]/s for i in range(len(p))]\n",
    "    return q"
   ]
  },
  {
   "cell_type": "code",
   "execution_count": 16,
   "metadata": {},
   "outputs": [
    {
     "ename": "SyntaxError",
     "evalue": "invalid syntax (<ipython-input-16-8a691ed701d2>, line 1)",
     "output_type": "error",
     "traceback": [
      "\u001b[1;36m  File \u001b[1;32m\"<ipython-input-16-8a691ed701d2>\"\u001b[1;36m, line \u001b[1;32m1\u001b[0m\n\u001b[1;33m    def move\u001b[0m\n\u001b[1;37m            ^\u001b[0m\n\u001b[1;31mSyntaxError\u001b[0m\u001b[1;31m:\u001b[0m invalid syntax\n"
     ]
    }
   ],
   "source": [
    "def move"
   ]
  },
  {
   "cell_type": "code",
   "execution_count": 17,
   "metadata": {},
   "outputs": [],
   "source": [
    "p=[0.2, 0.2, 0.2, 0.2, 0.2]\n",
    "world=['green', 'red', 'red', 'green', 'green']\n",
    "Z = 'red'\n",
    "pHit = 0.6\n",
    "pMiss = 0.2"
   ]
  },
  {
   "cell_type": "code",
   "execution_count": 18,
   "metadata": {},
   "outputs": [
    {
     "data": {
      "text/plain": [
       "[0.1111111111111111,\n",
       " 0.3333333333333332,\n",
       " 0.3333333333333332,\n",
       " 0.1111111111111111,\n",
       " 0.1111111111111111]"
      ]
     },
     "execution_count": 18,
     "metadata": {},
     "output_type": "execute_result"
    }
   ],
   "source": [
    "sense(p, Z)"
   ]
  },
  {
   "cell_type": "code",
   "execution_count": 20,
   "metadata": {},
   "outputs": [
    {
     "name": "stdout",
     "output_type": "stream",
     "text": [
      "[0.11111111111111113, 0.33333333333333326, 0.33333333333333326, 0.11111111111111113, 0.11111111111111113]\n",
      "[0.04761904761904763, 0.4285714285714285, 0.4285714285714285, 0.04761904761904763, 0.04761904761904763]\n"
     ]
    }
   ],
   "source": [
    "# if we have more than 1 measurement, so the update will be\n",
    "measurements = ['red', 'red']\n",
    "\n",
    "for Z in measurements:\n",
    "    p = sense(p,Z)\n",
    "    print (p)\n"
   ]
  },
  {
   "cell_type": "code",
   "execution_count": null,
   "metadata": {},
   "outputs": [],
   "source": []
  },
  {
   "cell_type": "code",
   "execution_count": null,
   "metadata": {},
   "outputs": [],
   "source": []
  }
 ],
 "metadata": {
  "kernelspec": {
   "display_name": "Python 3",
   "language": "python",
   "name": "python3"
  },
  "language_info": {
   "codemirror_mode": {
    "name": "ipython",
    "version": 3
   },
   "file_extension": ".py",
   "mimetype": "text/x-python",
   "name": "python",
   "nbconvert_exporter": "python",
   "pygments_lexer": "ipython3",
   "version": "3.7.0"
  }
 },
 "nbformat": 4,
 "nbformat_minor": 2
}
