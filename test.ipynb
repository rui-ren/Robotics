{
 "cells": [
  {
   "cell_type": "code",
   "execution_count": 1,
   "metadata": {},
   "outputs": [],
   "source": [
    "def localize(colors, measurements, motions, sensor_right, p_move):\n",
    "    \"\"\"\n",
    "    Arguments: colors --- the map of the landmark\n",
    "               meaurements --- the measurement update\n",
    "               motions --- the motion update\n",
    "               sensor_right --- the probability of sensor\n",
    "               p_move --- the probability of th movement\n",
    "    \n",
    "    Return: the probability of the location output\n",
    "    \"\"\"\n",
    "    aux = [[0.0 for col in range(len(colors[0]))] for row in range(len(colors))]\n",
    "    # we only need to update the motion for once\n",
    "    # y direction motion update\n",
    "    dy = motions[0]        # dy direction movement\n",
    "    dx = motions[1]        # dx direction movement\n",
    "    \n",
    "    for i in range(len(colors)):   # iterate the row\n",
    "    # check the motion in y direction \n",
    "        for j in range(len(colors[i])):\n",
    "            # robot movement and stand still\n",
    "            cov = p[(i-dy)% len(colors)][(j-dx)%len(colors[0])] * p_move    # robot movement\n",
    "            cov += p[i][j] * (1 - p_move)               # robot stand still\n",
    "            aux[i][j] = cov  # convolution\n",
    "    \n",
    "    # the measurement update for the calculations\n",
    "    Sum = 0\n",
    "    for i in range(len(colors)):                # iterate the rows\n",
    "        for j in range(len(colors[i])):         # iterate the columns\n",
    "            hit = (measurements==colors[i][j])  #  define a threshold for the measurement \n",
    "            aux[i][j] = (hit * p[i][j] * sensor_right + (1 - hit) * p[i][j] * (1 - sensor_right))\n",
    "            Sum += aux[i][j]\n",
    "\n",
    "    ######### normalization for the probability #######\n",
    "    \n",
    "    for i in range(len(aux)):\n",
    "        for j in range(len(aux[0])):\n",
    "            aux[i][j] /= Sum\n",
    "   \n",
    "    return aux\n",
    "\n",
    "def show(p):\n",
    "    rows = ['[' + ','.join(map(lambda x: '{0:.5f}'.format(x),r)) + ']' for r in p]\n",
    "    print ('[' + ',\\n '.join(rows) + ']')"
   ]
  },
  {
   "cell_type": "code",
   "execution_count": 2,
   "metadata": {},
   "outputs": [
    {
     "name": "stdout",
     "output_type": "stream",
     "text": [
      "[[0.00277,0.19169,0.19169,0.00277,0.00277],\n",
      " [0.00277,0.00277,0.19169,0.00277,0.00277],\n",
      " [0.00277,0.00277,0.19169,0.19169,0.00277],\n",
      " [0.00277,0.00277,0.00277,0.00277,0.00277]]\n"
     ]
    }
   ],
   "source": [
    "colors = [['R','G','G','R','R'],\n",
    "          ['R','R','G','R','R'],\n",
    "          ['R','R','G','G','R'],\n",
    "          ['R','R','R','R','R']]\n",
    "measurements = ['G','G','G','G','G']\n",
    "motions = [[0,0],[0,1],[1,0],[1,0],[0,1]]\n",
    "\n",
    "# define a initial probability for the calculation\n",
    "pinit = 1./ float(len(colors[0]))/float(len(colors))\n",
    "p = [[pinit for col in range(len(colors[0]))] for row in range(len(colors))]\n",
    "\n",
    "sensor_right = 0.7\n",
    "p_move = 0.8\n",
    "\n",
    "for i in range(len(motions)):\n",
    "    p = localize(colors, measurements[i], motions[i], sensor_right, p_move)\n",
    "show (p)"
   ]
  },
  {
   "cell_type": "code",
   "execution_count": null,
   "metadata": {},
   "outputs": [],
   "source": []
  }
 ],
 "metadata": {
  "kernelspec": {
   "display_name": "Python 3",
   "language": "python",
   "name": "python3"
  },
  "language_info": {
   "codemirror_mode": {
    "name": "ipython",
    "version": 3
   },
   "file_extension": ".py",
   "mimetype": "text/x-python",
   "name": "python",
   "nbconvert_exporter": "python",
   "pygments_lexer": "ipython3",
   "version": "3.7.0"
  }
 },
 "nbformat": 4,
 "nbformat_minor": 2
}
